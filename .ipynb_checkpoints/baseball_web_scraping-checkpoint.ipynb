{
 "cells": [
  {
   "cell_type": "code",
   "execution_count": 1,
   "metadata": {},
   "outputs": [],
   "source": [
    "import requests\n",
    "import csv\n",
    "from bs4 import BeautifulSoup\n",
    "from bs4 import Comment\n",
    "import pandas as pd\n",
    "import numpy as np\n",
    "import matplotlib.pyplot as plt\n",
    "import statsmodels.api as sm"
   ]
  },
  {
   "cell_type": "code",
   "execution_count": 2,
   "metadata": {},
   "outputs": [
    {
     "data": {
      "text/plain": [
       "<Response [200]>"
      ]
     },
     "execution_count": 2,
     "metadata": {},
     "output_type": "execute_result"
    }
   ],
   "source": [
    "page = requests.get('https://www.baseball-reference.com/teams/HOU/pitch.shtml')\n",
    "page"
   ]
  },
  {
   "cell_type": "code",
   "execution_count": 3,
   "metadata": {},
   "outputs": [],
   "source": [
    "soup = BeautifulSoup(page.text, 'html.parser')"
   ]
  },
  {
   "cell_type": "code",
   "execution_count": 4,
   "metadata": {},
   "outputs": [],
   "source": [
    "# the rows in the table do not have a class attributed to them\n",
    "tr_list = soup.find('tbody').find_all('tr', class_=None)"
   ]
  },
  {
   "cell_type": "code",
   "execution_count": 5,
   "metadata": {},
   "outputs": [
    {
     "data": {
      "text/plain": [
       "32"
      ]
     },
     "execution_count": 5,
     "metadata": {},
     "output_type": "execute_result"
    }
   ],
   "source": [
    "# the rows have all 32 columns\n",
    "len(tr_list[1])"
   ]
  },
  {
   "cell_type": "code",
   "execution_count": 6,
   "metadata": {},
   "outputs": [
    {
     "data": {
      "text/plain": [
       "472"
      ]
     },
     "execution_count": 6,
     "metadata": {},
     "output_type": "execute_result"
    }
   ],
   "source": [
    "#split the data into a list containing a list for reach row \n",
    "\n",
    "data_list = []\n",
    "for row in tr_list:\n",
    "    data_values = []\n",
    "    for column in row:\n",
    "        data_values.append(column.text)\n",
    "    data_list.append(data_values)\n",
    "    \n",
    "len(data_list)"
   ]
  },
  {
   "cell_type": "code",
   "execution_count": 7,
   "metadata": {},
   "outputs": [],
   "source": [
    "class Player:\n",
    "    instances = []\n",
    "    \n",
    "    def __init__(self, Rk, Name, S, C, F, Yrs, From, To, ASG, W, L, WL, ERA, G, GS, GF, CG, SHO, SV, IP, H, R, ER, HR, BB, IBB, SO, HBP, BK, WP, BF, ERA_plus):\n",
    "        self.Rk = Rk\n",
    "        self.Name = Name\n",
    "        self.S = S\n",
    "        self.C = C\n",
    "        self.F = F\n",
    "        self.Yrs = Yrs\n",
    "        self.From = From\n",
    "        self.To = To\n",
    "        self.ASG = ASG\n",
    "        self.W = W\n",
    "        self.L = L\n",
    "        self.WL = WL\n",
    "        self.ERA = ERA\n",
    "        self.G = G\n",
    "        self.GS = GS\n",
    "        self.GF = GF\n",
    "        self.CG = CG\n",
    "        self.SHO = SHO\n",
    "        self.SV = SV\n",
    "        self.IP = IP\n",
    "        self.H = H\n",
    "        self.R = R\n",
    "        self.ER = ER\n",
    "        self.HR = HR\n",
    "        self.BB = BB\n",
    "        self.IBB = IBB\n",
    "        self.SO = SO\n",
    "        self.HBP = HBP\n",
    "        self.BK = BK\n",
    "        self.WP = WP\n",
    "        self.BF = BF\n",
    "        self.ERA_plus = ERA_plus\n",
    "        \n",
    "        self.instances.append(self)"
   ]
  },
  {
   "cell_type": "code",
   "execution_count": 8,
   "metadata": {},
   "outputs": [],
   "source": [
    "for player in data_list:\n",
    "    Player(Rk=player[0], Name=player[1], S=player[2], C=player[3], F=player[4], Yrs=player[5], From=player[6], To=player[7], ASG=player[8], W=player[9], L=player[10], WL=player[11], ERA=player[12], G=player[13], GS=player[14], GF=player[15], CG=player[16], SHO=player[17], SV=player[18], IP=player[19], H=player[20], R=player[21], ER=player[22], HR=player[23], BB=player[24], IBB=player[25], SO=player[26], HBP=player[27], BK=player[28], WP=player[29], BF=player[30], ERA_plus=player[31])"
   ]
  },
  {
   "cell_type": "code",
   "execution_count": 9,
   "metadata": {},
   "outputs": [],
   "source": [
    "# thing = (self, Rk, Name, S, C, F, Yrs, From, To, ASG, W, L, WL, ERA, G, GS, GF, CG, SHO, SV, IP, H, R, ER, HR, BB, IBB, SO, HBP, BK, WP, BF, ERA_plus)"
   ]
  },
  {
   "cell_type": "code",
   "execution_count": 10,
   "metadata": {},
   "outputs": [],
   "source": [
    "# for i in Player.instances:\n",
    "#     print(i.Name)"
   ]
  },
  {
   "cell_type": "code",
   "execution_count": 9,
   "metadata": {},
   "outputs": [
    {
     "data": {
      "text/html": [
       "<div>\n",
       "<style scoped>\n",
       "    .dataframe tbody tr th:only-of-type {\n",
       "        vertical-align: middle;\n",
       "    }\n",
       "\n",
       "    .dataframe tbody tr th {\n",
       "        vertical-align: top;\n",
       "    }\n",
       "\n",
       "    .dataframe thead th {\n",
       "        text-align: right;\n",
       "    }\n",
       "</style>\n",
       "<table border=\"1\" class=\"dataframe\">\n",
       "  <thead>\n",
       "    <tr style=\"text-align: right;\">\n",
       "      <th></th>\n",
       "      <th>Rk</th>\n",
       "      <th>Name</th>\n",
       "      <th>S</th>\n",
       "      <th>C</th>\n",
       "      <th>F</th>\n",
       "      <th>Yrs</th>\n",
       "      <th>From</th>\n",
       "      <th>To</th>\n",
       "      <th>ASG</th>\n",
       "      <th>W</th>\n",
       "      <th>...</th>\n",
       "      <th>ER</th>\n",
       "      <th>HR</th>\n",
       "      <th>BB</th>\n",
       "      <th>IBB</th>\n",
       "      <th>SO</th>\n",
       "      <th>HBP</th>\n",
       "      <th>BK</th>\n",
       "      <th>WP</th>\n",
       "      <th>BF</th>\n",
       "      <th>ERA_plus</th>\n",
       "    </tr>\n",
       "  </thead>\n",
       "  <tbody>\n",
       "    <tr>\n",
       "      <th>0</th>\n",
       "      <td>1</td>\n",
       "      <td>Fernando Abad</td>\n",
       "      <td>S</td>\n",
       "      <td>-</td>\n",
       "      <td>-</td>\n",
       "      <td>3</td>\n",
       "      <td>2010</td>\n",
       "      <td>2012</td>\n",
       "      <td>0</td>\n",
       "      <td>1</td>\n",
       "      <td>...</td>\n",
       "      <td>48</td>\n",
       "      <td>14</td>\n",
       "      <td>33</td>\n",
       "      <td>1</td>\n",
       "      <td>65</td>\n",
       "      <td>4</td>\n",
       "      <td>0</td>\n",
       "      <td>4</td>\n",
       "      <td>383</td>\n",
       "      <td>79</td>\n",
       "    </tr>\n",
       "    <tr>\n",
       "      <th>1</th>\n",
       "      <td>2</td>\n",
       "      <td>Bryan Abreu</td>\n",
       "      <td>S</td>\n",
       "      <td>C</td>\n",
       "      <td>F</td>\n",
       "      <td>2</td>\n",
       "      <td>2019</td>\n",
       "      <td>2020</td>\n",
       "      <td>0</td>\n",
       "      <td>0</td>\n",
       "      <td>...</td>\n",
       "      <td>2</td>\n",
       "      <td>0</td>\n",
       "      <td>10</td>\n",
       "      <td>0</td>\n",
       "      <td>16</td>\n",
       "      <td>2</td>\n",
       "      <td>0</td>\n",
       "      <td>0</td>\n",
       "      <td>52</td>\n",
       "      <td>322</td>\n",
       "    </tr>\n",
       "    <tr>\n",
       "      <th>2</th>\n",
       "      <td>3</td>\n",
       "      <td>Juan Abreu</td>\n",
       "      <td>S</td>\n",
       "      <td>C</td>\n",
       "      <td>F</td>\n",
       "      <td>1</td>\n",
       "      <td>2011</td>\n",
       "      <td>2011</td>\n",
       "      <td>0</td>\n",
       "      <td>0</td>\n",
       "      <td>...</td>\n",
       "      <td>2</td>\n",
       "      <td>1</td>\n",
       "      <td>3</td>\n",
       "      <td>0</td>\n",
       "      <td>12</td>\n",
       "      <td>5</td>\n",
       "      <td>0</td>\n",
       "      <td>0</td>\n",
       "      <td>34</td>\n",
       "      <td>149</td>\n",
       "    </tr>\n",
       "    <tr>\n",
       "      <th>3</th>\n",
       "      <td>4</td>\n",
       "      <td>Juan Agosto</td>\n",
       "      <td>-</td>\n",
       "      <td>-</td>\n",
       "      <td>F</td>\n",
       "      <td>5</td>\n",
       "      <td>1987</td>\n",
       "      <td>1993</td>\n",
       "      <td>0</td>\n",
       "      <td>24</td>\n",
       "      <td>...</td>\n",
       "      <td>106</td>\n",
       "      <td>15</td>\n",
       "      <td>111</td>\n",
       "      <td>32</td>\n",
       "      <td>138</td>\n",
       "      <td>9</td>\n",
       "      <td>7</td>\n",
       "      <td>9</td>\n",
       "      <td>1280</td>\n",
       "      <td>112</td>\n",
       "    </tr>\n",
       "    <tr>\n",
       "      <th>4</th>\n",
       "      <td>5</td>\n",
       "      <td>Matt Albers</td>\n",
       "      <td>S</td>\n",
       "      <td>-</td>\n",
       "      <td>-</td>\n",
       "      <td>3</td>\n",
       "      <td>2006</td>\n",
       "      <td>2014</td>\n",
       "      <td>0</td>\n",
       "      <td>4</td>\n",
       "      <td>...</td>\n",
       "      <td>83</td>\n",
       "      <td>19</td>\n",
       "      <td>60</td>\n",
       "      <td>6</td>\n",
       "      <td>90</td>\n",
       "      <td>8</td>\n",
       "      <td>0</td>\n",
       "      <td>7</td>\n",
       "      <td>616</td>\n",
       "      <td>80</td>\n",
       "    </tr>\n",
       "  </tbody>\n",
       "</table>\n",
       "<p>5 rows × 32 columns</p>\n",
       "</div>"
      ],
      "text/plain": [
       "  Rk           Name  S  C  F Yrs  From    To ASG   W  ...   ER  HR   BB IBB  \\\n",
       "0  1  Fernando Abad  S  -  -   3  2010  2012   0   1  ...   48  14   33   1   \n",
       "1  2    Bryan Abreu  S  C  F   2  2019  2020   0   0  ...    2   0   10   0   \n",
       "2  3     Juan Abreu  S  C  F   1  2011  2011   0   0  ...    2   1    3   0   \n",
       "3  4    Juan Agosto  -  -  F   5  1987  1993   0  24  ...  106  15  111  32   \n",
       "4  5    Matt Albers  S  -  -   3  2006  2014   0   4  ...   83  19   60   6   \n",
       "\n",
       "    SO HBP BK WP    BF ERA_plus  \n",
       "0   65   4  0  4   383       79  \n",
       "1   16   2  0  0    52      322  \n",
       "2   12   5  0  0    34      149  \n",
       "3  138   9  7  9  1280      112  \n",
       "4   90   8  0  7   616       80  \n",
       "\n",
       "[5 rows x 32 columns]"
      ]
     },
     "execution_count": 9,
     "metadata": {},
     "output_type": "execute_result"
    }
   ],
   "source": [
    "df = pd.DataFrame(vars(f) for f in Player.instances)\n",
    "df.head()"
   ]
  },
  {
   "cell_type": "code",
   "execution_count": 10,
   "metadata": {},
   "outputs": [],
   "source": [
    "class Pitcher:\n",
    "    instances = []\n",
    "    \n",
    "    def __init__(self, name, height, salary, throws, bats):\n",
    "        self.name = name\n",
    "        self.height = height\n",
    "        self.salary = salary\n",
    "        self.throws = throws\n",
    "        self.bats = bats\n",
    "        \n",
    "        self.instances.append(self)"
   ]
  },
  {
   "cell_type": "code",
   "execution_count": 13,
   "metadata": {},
   "outputs": [],
   "source": [
    "# player_page = requests.get('https://www.baseball-reference.com/players/a/abadfe01.shtml')"
   ]
  },
  {
   "cell_type": "code",
   "execution_count": 14,
   "metadata": {},
   "outputs": [],
   "source": [
    "# new_soup = BeautifulSoup(player_page.text, 'html.parser')"
   ]
  },
  {
   "cell_type": "code",
   "execution_count": 15,
   "metadata": {
    "scrolled": true
   },
   "outputs": [],
   "source": [
    "# test_stat = new_soup.find('div', itemtype=\"https://schema.org/Person\").find_all('p')[1:3]\n",
    "# test_stat"
   ]
  },
  {
   "cell_type": "code",
   "execution_count": 16,
   "metadata": {},
   "outputs": [],
   "source": [
    "# plr_bats =test_stat[0].text[7:11]  #bats"
   ]
  },
  {
   "cell_type": "code",
   "execution_count": 17,
   "metadata": {},
   "outputs": [],
   "source": [
    "# plr_throws = test_stat[0].text[33:37] #throws"
   ]
  },
  {
   "cell_type": "code",
   "execution_count": 18,
   "metadata": {},
   "outputs": [],
   "source": [
    "# plr_height = test_stat[1].text[19:22]"
   ]
  },
  {
   "cell_type": "code",
   "execution_count": 19,
   "metadata": {},
   "outputs": [],
   "source": [
    "# plr_page = new_soup.find_all(string=lambda text: isinstance(text, Comment))\n",
    "# plr_page[50]"
   ]
  },
  {
   "cell_type": "code",
   "execution_count": 20,
   "metadata": {},
   "outputs": [],
   "source": [
    "# for comment in plr_page:\n",
    "#     if \"salary_total\" in comment:\n",
    "#         salary_table = comment"
   ]
  },
  {
   "cell_type": "code",
   "execution_count": 21,
   "metadata": {
    "scrolled": true
   },
   "outputs": [],
   "source": [
    "# salary_table2 = pd.read_html(salary_table)[0]\n",
    "\n",
    "# salary_table2"
   ]
  },
  {
   "cell_type": "code",
   "execution_count": 11,
   "metadata": {},
   "outputs": [],
   "source": [
    "for i in range(len(Player.instances)):\n",
    "    plr_salary = None\n",
    "    plr_name = Player.instances[i].Name\n",
    "    x = plr_name.split()\n",
    "    #account for people with abbreviated names like T.J. and check length of names\n",
    "    if '.' in x[0]:\n",
    "        x[0] = x[0][0] + x[0][2]\n",
    "    if len(x[1]) < 5 and len(x) > 2:\n",
    "        x[1] = x[1] + x[2][:(5-len(x[1]))]\n",
    "    if len(x[1]) > 4:\n",
    "        y = (x[1][:5] + x[0][:2]).lower()\n",
    "    else:\n",
    "        y = (x[1] + x[0][:2]).lower()\n",
    "    m = f'https://www.baseball-reference.com/players/' + x[1][0].lower() + '/' + y + '01.shtml'\n",
    "   \n",
    "    player_page = requests.get(m)\n",
    "    if player_page.status_code == 200:\n",
    "        new_soup = BeautifulSoup(player_page.text, 'html.parser')\n",
    "        \n",
    "        #check name on page matches player's name\n",
    "        test_stat2 = new_soup.find('div', itemtype=\"https://schema.org/Person\").find_all('h1')\n",
    "        if test_stat2[0].text.strip() == plr_name:\n",
    "            test_stat = new_soup.find('div', itemtype=\"https://schema.org/Person\").find_all('p')[1:3]\n",
    "            hand = 0\n",
    "            t_hand = 0\n",
    "            h = 0\n",
    "            # check if they bat right since right has 5 letters and left has 4 it changes the index\n",
    "            if test_stat[0].text[7] == 'R':\n",
    "                hand = 1\n",
    "            plr_bats =test_stat[0].text[7:11+hand]\n",
    "            if test_stat[0].text[33+hand] =='R':\n",
    "                t_hand = 1\n",
    "            plr_throws = test_stat[0].text[33+hand:37+hand+t_hand]\n",
    "            #account for people that have 3 numbers in height like 5'11\"\n",
    "            if test_stat[1].text[12] == '(':\n",
    "                h = 1\n",
    "            plr_height = test_stat[1].text[12+h:15+h]\n",
    "\n",
    "            plr_page = new_soup.find_all(string=lambda text: isinstance(text, Comment))\n",
    "            for comment in plr_page:\n",
    "                if \"salary_total\" in comment:\n",
    "                    salary_table = comment\n",
    "                    salary_table = pd.read_html(comment)[0]\n",
    "                    plr_salary = salary_table.Salary[len(salary_table)-1]\n",
    "            if plr_salary != None:   \n",
    "                Pitcher(name=plr_name, height=plr_height, salary=plr_salary, throws=plr_throws, bats=plr_bats)"
   ]
  },
  {
   "cell_type": "code",
   "execution_count": 26,
   "metadata": {},
   "outputs": [
    {
     "data": {
      "text/html": [
       "<div>\n",
       "<style scoped>\n",
       "    .dataframe tbody tr th:only-of-type {\n",
       "        vertical-align: middle;\n",
       "    }\n",
       "\n",
       "    .dataframe tbody tr th {\n",
       "        vertical-align: top;\n",
       "    }\n",
       "\n",
       "    .dataframe thead th {\n",
       "        text-align: right;\n",
       "    }\n",
       "</style>\n",
       "<table border=\"1\" class=\"dataframe\">\n",
       "  <thead>\n",
       "    <tr style=\"text-align: right;\">\n",
       "      <th></th>\n",
       "      <th>name</th>\n",
       "      <th>height</th>\n",
       "      <th>salary</th>\n",
       "      <th>throws</th>\n",
       "      <th>bats</th>\n",
       "    </tr>\n",
       "  </thead>\n",
       "  <tbody>\n",
       "    <tr>\n",
       "      <th>262</th>\n",
       "      <td>Jerome Williams</td>\n",
       "      <td>190</td>\n",
       "      <td>$8,944,000</td>\n",
       "      <td>Right</td>\n",
       "      <td>Right</td>\n",
       "    </tr>\n",
       "    <tr>\n",
       "      <th>263</th>\n",
       "      <td>Dooley Womack</td>\n",
       "      <td>183</td>\n",
       "      <td>$61,000</td>\n",
       "      <td>Right</td>\n",
       "      <td>Left</td>\n",
       "    </tr>\n",
       "    <tr>\n",
       "      <th>264</th>\n",
       "      <td>Wesley Wright</td>\n",
       "      <td>178</td>\n",
       "      <td>$5,921,500</td>\n",
       "      <td>Left</td>\n",
       "      <td>Right</td>\n",
       "    </tr>\n",
       "    <tr>\n",
       "      <th>265</th>\n",
       "      <td>Jim York</td>\n",
       "      <td>190</td>\n",
       "      <td>$12,500</td>\n",
       "      <td>Right</td>\n",
       "      <td>Right</td>\n",
       "    </tr>\n",
       "    <tr>\n",
       "      <th>266</th>\n",
       "      <td>Anthony Young</td>\n",
       "      <td>188</td>\n",
       "      <td>$1,205,000</td>\n",
       "      <td>Right</td>\n",
       "      <td>Right</td>\n",
       "    </tr>\n",
       "  </tbody>\n",
       "</table>\n",
       "</div>"
      ],
      "text/plain": [
       "                name height      salary throws   bats\n",
       "262  Jerome Williams    190  $8,944,000  Right  Right\n",
       "263    Dooley Womack    183     $61,000  Right   Left\n",
       "264    Wesley Wright    178  $5,921,500   Left  Right\n",
       "265         Jim York    190     $12,500  Right  Right\n",
       "266    Anthony Young    188  $1,205,000  Right  Right"
      ]
     },
     "execution_count": 26,
     "metadata": {},
     "output_type": "execute_result"
    }
   ],
   "source": [
    "df_s = pd.DataFrame(vars(f) for f in Pitcher.instances)\n",
    "df_s.tail(5)"
   ]
  },
  {
   "cell_type": "code",
   "execution_count": 48,
   "metadata": {},
   "outputs": [
    {
     "data": {
      "text/html": [
       "<div>\n",
       "<style scoped>\n",
       "    .dataframe tbody tr th:only-of-type {\n",
       "        vertical-align: middle;\n",
       "    }\n",
       "\n",
       "    .dataframe tbody tr th {\n",
       "        vertical-align: top;\n",
       "    }\n",
       "\n",
       "    .dataframe thead th {\n",
       "        text-align: right;\n",
       "    }\n",
       "</style>\n",
       "<table border=\"1\" class=\"dataframe\">\n",
       "  <thead>\n",
       "    <tr style=\"text-align: right;\">\n",
       "      <th></th>\n",
       "      <th>name</th>\n",
       "      <th>height</th>\n",
       "      <th>salary</th>\n",
       "      <th>throws</th>\n",
       "      <th>bats</th>\n",
       "    </tr>\n",
       "  </thead>\n",
       "  <tbody>\n",
       "    <tr>\n",
       "      <th>0</th>\n",
       "      <td>Fernando Abad</td>\n",
       "      <td>188</td>\n",
       "      <td>5966400</td>\n",
       "      <td>Left</td>\n",
       "      <td>Left</td>\n",
       "    </tr>\n",
       "    <tr>\n",
       "      <th>1</th>\n",
       "      <td>Juan Agosto</td>\n",
       "      <td>188</td>\n",
       "      <td>4698334</td>\n",
       "      <td>Left</td>\n",
       "      <td>Left</td>\n",
       "    </tr>\n",
       "    <tr>\n",
       "      <th>2</th>\n",
       "      <td>Matt Albers</td>\n",
       "      <td>185</td>\n",
       "      <td>17535000</td>\n",
       "      <td>Right</td>\n",
       "      <td>Left</td>\n",
       "    </tr>\n",
       "    <tr>\n",
       "      <th>3</th>\n",
       "      <td>Hector Ambriz</td>\n",
       "      <td>188</td>\n",
       "      <td>893400</td>\n",
       "      <td>Right</td>\n",
       "      <td>Left</td>\n",
       "    </tr>\n",
       "    <tr>\n",
       "      <th>4</th>\n",
       "      <td>John Anderson</td>\n",
       "      <td>188</td>\n",
       "      <td>9500</td>\n",
       "      <td>Right</td>\n",
       "      <td>Both</td>\n",
       "    </tr>\n",
       "  </tbody>\n",
       "</table>\n",
       "</div>"
      ],
      "text/plain": [
       "            name height    salary throws  bats\n",
       "0  Fernando Abad    188   5966400   Left  Left\n",
       "1    Juan Agosto    188   4698334   Left  Left\n",
       "2    Matt Albers    185  17535000  Right  Left\n",
       "3  Hector Ambriz    188    893400  Right  Left\n",
       "4  John Anderson    188      9500  Right  Both"
      ]
     },
     "execution_count": 48,
     "metadata": {},
     "output_type": "execute_result"
    }
   ],
   "source": [
    "df_s['salary'] = df_s['salary'].str.replace(',', '').str.replace('$', '').astype(int)\n",
    "df_s.head(5)"
   ]
  },
  {
   "cell_type": "code",
   "execution_count": 60,
   "metadata": {},
   "outputs": [
    {
     "data": {
      "text/plain": [
       "name      object\n",
       "height     int32\n",
       "salary     int32\n",
       "throws    object\n",
       "bats      object\n",
       "dtype: object"
      ]
     },
     "execution_count": 60,
     "metadata": {},
     "output_type": "execute_result"
    }
   ],
   "source": [
    "df_s = df_s.astype({'height': int})\n",
    "df_s.dtypes"
   ]
  },
  {
   "cell_type": "code",
   "execution_count": 62,
   "metadata": {},
   "outputs": [
    {
     "data": {
      "text/html": [
       "<div>\n",
       "<style scoped>\n",
       "    .dataframe tbody tr th:only-of-type {\n",
       "        vertical-align: middle;\n",
       "    }\n",
       "\n",
       "    .dataframe tbody tr th {\n",
       "        vertical-align: top;\n",
       "    }\n",
       "\n",
       "    .dataframe thead th {\n",
       "        text-align: right;\n",
       "    }\n",
       "</style>\n",
       "<table border=\"1\" class=\"dataframe\">\n",
       "  <thead>\n",
       "    <tr style=\"text-align: right;\">\n",
       "      <th></th>\n",
       "      <th>name</th>\n",
       "      <th>height</th>\n",
       "      <th>salary</th>\n",
       "      <th>throws</th>\n",
       "      <th>bats</th>\n",
       "    </tr>\n",
       "  </thead>\n",
       "  <tbody>\n",
       "    <tr>\n",
       "      <th>2</th>\n",
       "      <td>Matt Albers</td>\n",
       "      <td>185</td>\n",
       "      <td>17535000</td>\n",
       "      <td>Right</td>\n",
       "      <td>Left</td>\n",
       "    </tr>\n",
       "    <tr>\n",
       "      <th>3</th>\n",
       "      <td>Hector Ambriz</td>\n",
       "      <td>188</td>\n",
       "      <td>893400</td>\n",
       "      <td>Right</td>\n",
       "      <td>Left</td>\n",
       "    </tr>\n",
       "    <tr>\n",
       "      <th>4</th>\n",
       "      <td>John Anderson</td>\n",
       "      <td>188</td>\n",
       "      <td>9500</td>\n",
       "      <td>Right</td>\n",
       "      <td>Both</td>\n",
       "    </tr>\n",
       "    <tr>\n",
       "      <th>5</th>\n",
       "      <td>Nori Aoki</td>\n",
       "      <td>175</td>\n",
       "      <td>20650000</td>\n",
       "      <td>Right</td>\n",
       "      <td>Left</td>\n",
       "    </tr>\n",
       "    <tr>\n",
       "      <th>6</th>\n",
       "      <td>Pedro Astacio</td>\n",
       "      <td>188</td>\n",
       "      <td>40136000</td>\n",
       "      <td>Right</td>\n",
       "      <td>Right</td>\n",
       "    </tr>\n",
       "  </tbody>\n",
       "</table>\n",
       "</div>"
      ],
      "text/plain": [
       "            name  height    salary throws   bats\n",
       "2    Matt Albers     185  17535000  Right   Left\n",
       "3  Hector Ambriz     188    893400  Right   Left\n",
       "4  John Anderson     188      9500  Right   Both\n",
       "5      Nori Aoki     175  20650000  Right   Left\n",
       "6  Pedro Astacio     188  40136000  Right  Right"
      ]
     },
     "execution_count": 62,
     "metadata": {},
     "output_type": "execute_result"
    }
   ],
   "source": [
    "R = df_s.query('throws == \"Right\"')\n",
    "R.head(5)"
   ]
  },
  {
   "cell_type": "code",
   "execution_count": 65,
   "metadata": {},
   "outputs": [
    {
     "data": {
      "text/plain": [
       "bats\n",
       "Both     1.323474e+07\n",
       "Left     1.356239e+07\n",
       "Right    1.255120e+07\n",
       "Name: salary, dtype: float64"
      ]
     },
     "execution_count": 65,
     "metadata": {},
     "output_type": "execute_result"
    }
   ],
   "source": [
    "R.groupby(['bats']).salary.mean()"
   ]
  },
  {
   "cell_type": "code",
   "execution_count": 69,
   "metadata": {},
   "outputs": [
    {
     "data": {
      "text/plain": [
       "Right    179\n",
       "Left      16\n",
       "Both       7\n",
       "Name: bats, dtype: int64"
      ]
     },
     "execution_count": 69,
     "metadata": {},
     "output_type": "execute_result"
    }
   ],
   "source": [
    "R.bats.value_counts()"
   ]
  },
  {
   "cell_type": "code",
   "execution_count": 66,
   "metadata": {},
   "outputs": [
    {
     "data": {
      "text/html": [
       "<div>\n",
       "<style scoped>\n",
       "    .dataframe tbody tr th:only-of-type {\n",
       "        vertical-align: middle;\n",
       "    }\n",
       "\n",
       "    .dataframe tbody tr th {\n",
       "        vertical-align: top;\n",
       "    }\n",
       "\n",
       "    .dataframe thead th {\n",
       "        text-align: right;\n",
       "    }\n",
       "</style>\n",
       "<table border=\"1\" class=\"dataframe\">\n",
       "  <thead>\n",
       "    <tr style=\"text-align: right;\">\n",
       "      <th></th>\n",
       "      <th>name</th>\n",
       "      <th>height</th>\n",
       "      <th>salary</th>\n",
       "      <th>throws</th>\n",
       "      <th>bats</th>\n",
       "    </tr>\n",
       "  </thead>\n",
       "  <tbody>\n",
       "    <tr>\n",
       "      <th>0</th>\n",
       "      <td>Fernando Abad</td>\n",
       "      <td>188</td>\n",
       "      <td>5966400</td>\n",
       "      <td>Left</td>\n",
       "      <td>Left</td>\n",
       "    </tr>\n",
       "    <tr>\n",
       "      <th>1</th>\n",
       "      <td>Juan Agosto</td>\n",
       "      <td>188</td>\n",
       "      <td>4698334</td>\n",
       "      <td>Left</td>\n",
       "      <td>Left</td>\n",
       "    </tr>\n",
       "    <tr>\n",
       "      <th>8</th>\n",
       "      <td>Floyd Bannister</td>\n",
       "      <td>185</td>\n",
       "      <td>7215250</td>\n",
       "      <td>Left</td>\n",
       "      <td>Left</td>\n",
       "    </tr>\n",
       "    <tr>\n",
       "      <th>11</th>\n",
       "      <td>Erik Bedard</td>\n",
       "      <td>185</td>\n",
       "      <td>28330000</td>\n",
       "      <td>Left</td>\n",
       "      <td>Left</td>\n",
       "    </tr>\n",
       "    <tr>\n",
       "      <th>12</th>\n",
       "      <td>Bo Belinsky</td>\n",
       "      <td>188</td>\n",
       "      <td>106000</td>\n",
       "      <td>Left</td>\n",
       "      <td>Left</td>\n",
       "    </tr>\n",
       "  </tbody>\n",
       "</table>\n",
       "</div>"
      ],
      "text/plain": [
       "               name  height    salary throws  bats\n",
       "0     Fernando Abad     188   5966400   Left  Left\n",
       "1       Juan Agosto     188   4698334   Left  Left\n",
       "8   Floyd Bannister     185   7215250   Left  Left\n",
       "11      Erik Bedard     185  28330000   Left  Left\n",
       "12      Bo Belinsky     188    106000   Left  Left"
      ]
     },
     "execution_count": 66,
     "metadata": {},
     "output_type": "execute_result"
    }
   ],
   "source": [
    "L = df_s.query('throws == \"Left\"')\n",
    "L.head(5)"
   ]
  },
  {
   "cell_type": "code",
   "execution_count": 67,
   "metadata": {},
   "outputs": [
    {
     "data": {
      "text/plain": [
       "bats\n",
       "Both     3.106750e+06\n",
       "Left     1.369952e+07\n",
       "Right    1.815994e+07\n",
       "Name: salary, dtype: float64"
      ]
     },
     "execution_count": 67,
     "metadata": {},
     "output_type": "execute_result"
    }
   ],
   "source": [
    "L.groupby(['bats']).salary.mean()"
   ]
  },
  {
   "cell_type": "code",
   "execution_count": 68,
   "metadata": {},
   "outputs": [
    {
     "data": {
      "text/plain": [
       "Left     54\n",
       "Right     9\n",
       "Both      2\n",
       "Name: bats, dtype: int64"
      ]
     },
     "execution_count": 68,
     "metadata": {},
     "output_type": "execute_result"
    }
   ],
   "source": [
    "L.bats.value_counts()"
   ]
  },
  {
   "cell_type": "code",
   "execution_count": 70,
   "metadata": {},
   "outputs": [
    {
     "data": {
      "text/plain": [
       "throws\n",
       "Left     1.399118e+07\n",
       "Right    1.265499e+07\n",
       "Name: salary, dtype: float64"
      ]
     },
     "execution_count": 70,
     "metadata": {},
     "output_type": "execute_result"
    }
   ],
   "source": [
    "df_s.groupby(['throws']).salary.mean()"
   ]
  },
  {
   "cell_type": "code",
   "execution_count": 71,
   "metadata": {},
   "outputs": [
    {
     "data": {
      "text/plain": [
       "185.7846153846154"
      ]
     },
     "execution_count": 71,
     "metadata": {},
     "output_type": "execute_result"
    }
   ],
   "source": [
    "L.height.mean()"
   ]
  },
  {
   "cell_type": "code",
   "execution_count": 72,
   "metadata": {},
   "outputs": [
    {
     "data": {
      "text/plain": [
       "188.90594059405942"
      ]
     },
     "execution_count": 72,
     "metadata": {},
     "output_type": "execute_result"
    }
   ],
   "source": [
    "R.height.mean()"
   ]
  },
  {
   "cell_type": "code",
   "execution_count": 76,
   "metadata": {},
   "outputs": [
    {
     "data": {
      "text/html": [
       "<div>\n",
       "<style scoped>\n",
       "    .dataframe tbody tr th:only-of-type {\n",
       "        vertical-align: middle;\n",
       "    }\n",
       "\n",
       "    .dataframe tbody tr th {\n",
       "        vertical-align: top;\n",
       "    }\n",
       "\n",
       "    .dataframe thead th {\n",
       "        text-align: right;\n",
       "    }\n",
       "</style>\n",
       "<table border=\"1\" class=\"dataframe\">\n",
       "  <thead>\n",
       "    <tr style=\"text-align: right;\">\n",
       "      <th></th>\n",
       "      <th>name</th>\n",
       "      <th>height</th>\n",
       "      <th>salary</th>\n",
       "      <th>throws</th>\n",
       "      <th>bats</th>\n",
       "      <th>intercept</th>\n",
       "    </tr>\n",
       "  </thead>\n",
       "  <tbody>\n",
       "    <tr>\n",
       "      <th>0</th>\n",
       "      <td>Fernando Abad</td>\n",
       "      <td>188</td>\n",
       "      <td>5966400</td>\n",
       "      <td>Left</td>\n",
       "      <td>Left</td>\n",
       "      <td>1</td>\n",
       "    </tr>\n",
       "  </tbody>\n",
       "</table>\n",
       "</div>"
      ],
      "text/plain": [
       "            name  height   salary throws  bats  intercept\n",
       "0  Fernando Abad     188  5966400   Left  Left          1"
      ]
     },
     "execution_count": 76,
     "metadata": {},
     "output_type": "execute_result"
    }
   ],
   "source": [
    "df_s['intercept'] = 1\n",
    "df_s.head(1)"
   ]
  },
  {
   "cell_type": "code",
   "execution_count": 77,
   "metadata": {},
   "outputs": [
    {
     "data": {
      "text/html": [
       "<div>\n",
       "<style scoped>\n",
       "    .dataframe tbody tr th:only-of-type {\n",
       "        vertical-align: middle;\n",
       "    }\n",
       "\n",
       "    .dataframe tbody tr th {\n",
       "        vertical-align: top;\n",
       "    }\n",
       "\n",
       "    .dataframe thead th {\n",
       "        text-align: right;\n",
       "    }\n",
       "</style>\n",
       "<table border=\"1\" class=\"dataframe\">\n",
       "  <thead>\n",
       "    <tr style=\"text-align: right;\">\n",
       "      <th></th>\n",
       "      <th>name</th>\n",
       "      <th>height</th>\n",
       "      <th>salary</th>\n",
       "      <th>throws</th>\n",
       "      <th>bats</th>\n",
       "      <th>intercept</th>\n",
       "      <th>Left</th>\n",
       "      <th>Right</th>\n",
       "    </tr>\n",
       "  </thead>\n",
       "  <tbody>\n",
       "    <tr>\n",
       "      <th>0</th>\n",
       "      <td>Fernando Abad</td>\n",
       "      <td>188</td>\n",
       "      <td>5966400</td>\n",
       "      <td>Left</td>\n",
       "      <td>Left</td>\n",
       "      <td>1</td>\n",
       "      <td>1</td>\n",
       "      <td>0</td>\n",
       "    </tr>\n",
       "  </tbody>\n",
       "</table>\n",
       "</div>"
      ],
      "text/plain": [
       "            name  height   salary throws  bats  intercept  Left  Right\n",
       "0  Fernando Abad     188  5966400   Left  Left          1     1      0"
      ]
     },
     "execution_count": 77,
     "metadata": {},
     "output_type": "execute_result"
    }
   ],
   "source": [
    "df_s[['Left', 'Right']] = pd.get_dummies(df_s['throws'])\n",
    "df_s.head(1)"
   ]
  },
  {
   "cell_type": "code",
   "execution_count": null,
   "metadata": {},
   "outputs": [],
   "source": []
  },
  {
   "cell_type": "code",
   "execution_count": 80,
   "metadata": {},
   "outputs": [
    {
     "data": {
      "text/html": [
       "<div>\n",
       "<style scoped>\n",
       "    .dataframe tbody tr th:only-of-type {\n",
       "        vertical-align: middle;\n",
       "    }\n",
       "\n",
       "    .dataframe tbody tr th {\n",
       "        vertical-align: top;\n",
       "    }\n",
       "\n",
       "    .dataframe thead th {\n",
       "        text-align: right;\n",
       "    }\n",
       "</style>\n",
       "<table border=\"1\" class=\"dataframe\">\n",
       "  <thead>\n",
       "    <tr style=\"text-align: right;\">\n",
       "      <th></th>\n",
       "      <th>name</th>\n",
       "      <th>height</th>\n",
       "      <th>salary</th>\n",
       "      <th>throws</th>\n",
       "      <th>bats</th>\n",
       "      <th>intercept</th>\n",
       "      <th>Left</th>\n",
       "      <th>Right</th>\n",
       "      <th>Both</th>\n",
       "      <th>B_Left</th>\n",
       "      <th>B_Right</th>\n",
       "    </tr>\n",
       "  </thead>\n",
       "  <tbody>\n",
       "    <tr>\n",
       "      <th>0</th>\n",
       "      <td>Fernando Abad</td>\n",
       "      <td>188</td>\n",
       "      <td>5966400</td>\n",
       "      <td>Left</td>\n",
       "      <td>Left</td>\n",
       "      <td>1</td>\n",
       "      <td>0</td>\n",
       "      <td>1</td>\n",
       "      <td>0</td>\n",
       "      <td>0</td>\n",
       "      <td>1</td>\n",
       "    </tr>\n",
       "  </tbody>\n",
       "</table>\n",
       "</div>"
      ],
      "text/plain": [
       "            name  height   salary throws  bats  intercept  Left  Right  Both  \\\n",
       "0  Fernando Abad     188  5966400   Left  Left          1     0      1     0   \n",
       "\n",
       "   B_Left  B_Right  \n",
       "0       0        1  "
      ]
     },
     "execution_count": 80,
     "metadata": {},
     "output_type": "execute_result"
    }
   ],
   "source": [
    "df_s[['B_Left', 'B_Right', 'Both']] = pd.get_dummies(df_s['bats'])\n",
    "df_s.head(1)"
   ]
  },
  {
   "cell_type": "code",
   "execution_count": 82,
   "metadata": {},
   "outputs": [
    {
     "data": {
      "text/html": [
       "<table class=\"simpletable\">\n",
       "<caption>OLS Regression Results</caption>\n",
       "<tr>\n",
       "  <th>Dep. Variable:</th>         <td>salary</td>      <th>  R-squared:         </th> <td>   0.000</td>\n",
       "</tr>\n",
       "<tr>\n",
       "  <th>Model:</th>                   <td>OLS</td>       <th>  Adj. R-squared:    </th> <td>  -0.007</td>\n",
       "</tr>\n",
       "<tr>\n",
       "  <th>Method:</th>             <td>Least Squares</td>  <th>  F-statistic:       </th> <td> 0.03883</td>\n",
       "</tr>\n",
       "<tr>\n",
       "  <th>Date:</th>             <td>Sun, 02 Aug 2020</td> <th>  Prob (F-statistic):</th>  <td> 0.962</td> \n",
       "</tr>\n",
       "<tr>\n",
       "  <th>Time:</th>                 <td>22:48:48</td>     <th>  Log-Likelihood:    </th> <td> -4981.5</td>\n",
       "</tr>\n",
       "<tr>\n",
       "  <th>No. Observations:</th>      <td>   267</td>      <th>  AIC:               </th> <td>   9969.</td>\n",
       "</tr>\n",
       "<tr>\n",
       "  <th>Df Residuals:</th>          <td>   264</td>      <th>  BIC:               </th> <td>   9980.</td>\n",
       "</tr>\n",
       "<tr>\n",
       "  <th>Df Model:</th>              <td>     2</td>      <th>                     </th>     <td> </td>   \n",
       "</tr>\n",
       "<tr>\n",
       "  <th>Covariance Type:</th>      <td>nonrobust</td>    <th>                     </th>     <td> </td>   \n",
       "</tr>\n",
       "</table>\n",
       "<table class=\"simpletable\">\n",
       "<tr>\n",
       "      <td></td>         <th>coef</th>     <th>std err</th>      <th>t</th>      <th>P>|t|</th>  <th>[0.025</th>    <th>0.975]</th>  \n",
       "</tr>\n",
       "<tr>\n",
       "  <th>intercept</th> <td> 1.282e+07</td> <td> 2.25e+06</td> <td>    5.700</td> <td> 0.000</td> <td> 8.39e+06</td> <td> 1.72e+07</td>\n",
       "</tr>\n",
       "<tr>\n",
       "  <th>Left</th>      <td>-1.836e+06</td> <td> 1.05e+07</td> <td>   -0.174</td> <td> 0.862</td> <td>-2.26e+07</td> <td> 1.89e+07</td>\n",
       "</tr>\n",
       "<tr>\n",
       "  <th>Right</th>     <td> 8.485e+05</td> <td> 4.32e+06</td> <td>    0.197</td> <td> 0.844</td> <td>-7.65e+06</td> <td> 9.35e+06</td>\n",
       "</tr>\n",
       "</table>\n",
       "<table class=\"simpletable\">\n",
       "<tr>\n",
       "  <th>Omnibus:</th>       <td>325.288</td> <th>  Durbin-Watson:     </th> <td>   1.847</td> \n",
       "</tr>\n",
       "<tr>\n",
       "  <th>Prob(Omnibus):</th> <td> 0.000</td>  <th>  Jarque-Bera (JB):  </th> <td>17350.857</td>\n",
       "</tr>\n",
       "<tr>\n",
       "  <th>Skew:</th>          <td> 5.415</td>  <th>  Prob(JB):          </th> <td>    0.00</td> \n",
       "</tr>\n",
       "<tr>\n",
       "  <th>Kurtosis:</th>      <td>40.978</td>  <th>  Cond. No.          </th> <td>    5.82</td> \n",
       "</tr>\n",
       "</table><br/><br/>Warnings:<br/>[1] Standard Errors assume that the covariance matrix of the errors is correctly specified."
      ],
      "text/plain": [
       "<class 'statsmodels.iolib.summary.Summary'>\n",
       "\"\"\"\n",
       "                            OLS Regression Results                            \n",
       "==============================================================================\n",
       "Dep. Variable:                 salary   R-squared:                       0.000\n",
       "Model:                            OLS   Adj. R-squared:                 -0.007\n",
       "Method:                 Least Squares   F-statistic:                   0.03883\n",
       "Date:                Sun, 02 Aug 2020   Prob (F-statistic):              0.962\n",
       "Time:                        22:48:48   Log-Likelihood:                -4981.5\n",
       "No. Observations:                 267   AIC:                             9969.\n",
       "Df Residuals:                     264   BIC:                             9980.\n",
       "Df Model:                           2                                         \n",
       "Covariance Type:            nonrobust                                         \n",
       "==============================================================================\n",
       "                 coef    std err          t      P>|t|      [0.025      0.975]\n",
       "------------------------------------------------------------------------------\n",
       "intercept   1.282e+07   2.25e+06      5.700      0.000    8.39e+06    1.72e+07\n",
       "Left       -1.836e+06   1.05e+07     -0.174      0.862   -2.26e+07    1.89e+07\n",
       "Right       8.485e+05   4.32e+06      0.197      0.844   -7.65e+06    9.35e+06\n",
       "==============================================================================\n",
       "Omnibus:                      325.288   Durbin-Watson:                   1.847\n",
       "Prob(Omnibus):                  0.000   Jarque-Bera (JB):            17350.857\n",
       "Skew:                           5.415   Prob(JB):                         0.00\n",
       "Kurtosis:                      40.978   Cond. No.                         5.82\n",
       "==============================================================================\n",
       "\n",
       "Warnings:\n",
       "[1] Standard Errors assume that the covariance matrix of the errors is correctly specified.\n",
       "\"\"\""
      ]
     },
     "execution_count": 82,
     "metadata": {},
     "output_type": "execute_result"
    }
   ],
   "source": [
    "lm = sm.OLS(df_s.salary, df_s[['intercept', 'Left', 'Right']])\n",
    "result = lm.fit()\n",
    "result.summary()"
   ]
  },
  {
   "cell_type": "code",
   "execution_count": 83,
   "metadata": {},
   "outputs": [
    {
     "data": {
      "text/html": [
       "<table class=\"simpletable\">\n",
       "<caption>OLS Regression Results</caption>\n",
       "<tr>\n",
       "  <th>Dep. Variable:</th>         <td>salary</td>      <th>  R-squared:         </th> <td>   0.000</td>\n",
       "</tr>\n",
       "<tr>\n",
       "  <th>Model:</th>                   <td>OLS</td>       <th>  Adj. R-squared:    </th> <td>  -0.007</td>\n",
       "</tr>\n",
       "<tr>\n",
       "  <th>Method:</th>             <td>Least Squares</td>  <th>  F-statistic:       </th> <td> 0.03883</td>\n",
       "</tr>\n",
       "<tr>\n",
       "  <th>Date:</th>             <td>Sun, 02 Aug 2020</td> <th>  Prob (F-statistic):</th>  <td> 0.962</td> \n",
       "</tr>\n",
       "<tr>\n",
       "  <th>Time:</th>                 <td>22:49:46</td>     <th>  Log-Likelihood:    </th> <td> -4981.5</td>\n",
       "</tr>\n",
       "<tr>\n",
       "  <th>No. Observations:</th>      <td>   267</td>      <th>  AIC:               </th> <td>   9969.</td>\n",
       "</tr>\n",
       "<tr>\n",
       "  <th>Df Residuals:</th>          <td>   264</td>      <th>  BIC:               </th> <td>   9980.</td>\n",
       "</tr>\n",
       "<tr>\n",
       "  <th>Df Model:</th>              <td>     2</td>      <th>                     </th>     <td> </td>   \n",
       "</tr>\n",
       "<tr>\n",
       "  <th>Covariance Type:</th>      <td>nonrobust</td>    <th>                     </th>     <td> </td>   \n",
       "</tr>\n",
       "</table>\n",
       "<table class=\"simpletable\">\n",
       "<tr>\n",
       "      <td></td>         <th>coef</th>     <th>std err</th>      <th>t</th>      <th>P>|t|</th>  <th>[0.025</th>    <th>0.975]</th>  \n",
       "</tr>\n",
       "<tr>\n",
       "  <th>intercept</th> <td> 1.282e+07</td> <td> 2.25e+06</td> <td>    5.700</td> <td> 0.000</td> <td> 8.39e+06</td> <td> 1.72e+07</td>\n",
       "</tr>\n",
       "<tr>\n",
       "  <th>B_Left</th>    <td>-1.836e+06</td> <td> 1.05e+07</td> <td>   -0.174</td> <td> 0.862</td> <td>-2.26e+07</td> <td> 1.89e+07</td>\n",
       "</tr>\n",
       "<tr>\n",
       "  <th>B_Right</th>   <td> 8.485e+05</td> <td> 4.32e+06</td> <td>    0.197</td> <td> 0.844</td> <td>-7.65e+06</td> <td> 9.35e+06</td>\n",
       "</tr>\n",
       "</table>\n",
       "<table class=\"simpletable\">\n",
       "<tr>\n",
       "  <th>Omnibus:</th>       <td>325.288</td> <th>  Durbin-Watson:     </th> <td>   1.847</td> \n",
       "</tr>\n",
       "<tr>\n",
       "  <th>Prob(Omnibus):</th> <td> 0.000</td>  <th>  Jarque-Bera (JB):  </th> <td>17350.857</td>\n",
       "</tr>\n",
       "<tr>\n",
       "  <th>Skew:</th>          <td> 5.415</td>  <th>  Prob(JB):          </th> <td>    0.00</td> \n",
       "</tr>\n",
       "<tr>\n",
       "  <th>Kurtosis:</th>      <td>40.978</td>  <th>  Cond. No.          </th> <td>    5.82</td> \n",
       "</tr>\n",
       "</table><br/><br/>Warnings:<br/>[1] Standard Errors assume that the covariance matrix of the errors is correctly specified."
      ],
      "text/plain": [
       "<class 'statsmodels.iolib.summary.Summary'>\n",
       "\"\"\"\n",
       "                            OLS Regression Results                            \n",
       "==============================================================================\n",
       "Dep. Variable:                 salary   R-squared:                       0.000\n",
       "Model:                            OLS   Adj. R-squared:                 -0.007\n",
       "Method:                 Least Squares   F-statistic:                   0.03883\n",
       "Date:                Sun, 02 Aug 2020   Prob (F-statistic):              0.962\n",
       "Time:                        22:49:46   Log-Likelihood:                -4981.5\n",
       "No. Observations:                 267   AIC:                             9969.\n",
       "Df Residuals:                     264   BIC:                             9980.\n",
       "Df Model:                           2                                         \n",
       "Covariance Type:            nonrobust                                         \n",
       "==============================================================================\n",
       "                 coef    std err          t      P>|t|      [0.025      0.975]\n",
       "------------------------------------------------------------------------------\n",
       "intercept   1.282e+07   2.25e+06      5.700      0.000    8.39e+06    1.72e+07\n",
       "B_Left     -1.836e+06   1.05e+07     -0.174      0.862   -2.26e+07    1.89e+07\n",
       "B_Right     8.485e+05   4.32e+06      0.197      0.844   -7.65e+06    9.35e+06\n",
       "==============================================================================\n",
       "Omnibus:                      325.288   Durbin-Watson:                   1.847\n",
       "Prob(Omnibus):                  0.000   Jarque-Bera (JB):            17350.857\n",
       "Skew:                           5.415   Prob(JB):                         0.00\n",
       "Kurtosis:                      40.978   Cond. No.                         5.82\n",
       "==============================================================================\n",
       "\n",
       "Warnings:\n",
       "[1] Standard Errors assume that the covariance matrix of the errors is correctly specified.\n",
       "\"\"\""
      ]
     },
     "execution_count": 83,
     "metadata": {},
     "output_type": "execute_result"
    }
   ],
   "source": [
    "lm = sm.OLS(df_s.salary, df_s[['intercept', 'B_Left', 'B_Right']])\n",
    "result = lm.fit()\n",
    "result.summary()"
   ]
  },
  {
   "cell_type": "code",
   "execution_count": 84,
   "metadata": {},
   "outputs": [
    {
     "data": {
      "text/html": [
       "<table class=\"simpletable\">\n",
       "<caption>OLS Regression Results</caption>\n",
       "<tr>\n",
       "  <th>Dep. Variable:</th>         <td>salary</td>      <th>  R-squared:         </th> <td>   0.009</td>\n",
       "</tr>\n",
       "<tr>\n",
       "  <th>Model:</th>                   <td>OLS</td>       <th>  Adj. R-squared:    </th> <td>   0.005</td>\n",
       "</tr>\n",
       "<tr>\n",
       "  <th>Method:</th>             <td>Least Squares</td>  <th>  F-statistic:       </th> <td>   2.457</td>\n",
       "</tr>\n",
       "<tr>\n",
       "  <th>Date:</th>             <td>Sun, 02 Aug 2020</td> <th>  Prob (F-statistic):</th>  <td> 0.118</td> \n",
       "</tr>\n",
       "<tr>\n",
       "  <th>Time:</th>                 <td>22:50:02</td>     <th>  Log-Likelihood:    </th> <td> -4980.4</td>\n",
       "</tr>\n",
       "<tr>\n",
       "  <th>No. Observations:</th>      <td>   267</td>      <th>  AIC:               </th> <td>   9965.</td>\n",
       "</tr>\n",
       "<tr>\n",
       "  <th>Df Residuals:</th>          <td>   265</td>      <th>  BIC:               </th> <td>   9972.</td>\n",
       "</tr>\n",
       "<tr>\n",
       "  <th>Df Model:</th>              <td>     1</td>      <th>                     </th>     <td> </td>   \n",
       "</tr>\n",
       "<tr>\n",
       "  <th>Covariance Type:</th>      <td>nonrobust</td>    <th>                     </th>     <td> </td>   \n",
       "</tr>\n",
       "</table>\n",
       "<table class=\"simpletable\">\n",
       "<tr>\n",
       "      <td></td>         <th>coef</th>     <th>std err</th>      <th>t</th>      <th>P>|t|</th>  <th>[0.025</th>    <th>0.975]</th>  \n",
       "</tr>\n",
       "<tr>\n",
       "  <th>intercept</th> <td>-8.922e+07</td> <td> 6.52e+07</td> <td>   -1.368</td> <td> 0.172</td> <td>-2.18e+08</td> <td> 3.92e+07</td>\n",
       "</tr>\n",
       "<tr>\n",
       "  <th>height</th>    <td> 5.432e+05</td> <td> 3.47e+05</td> <td>    1.568</td> <td> 0.118</td> <td>-1.39e+05</td> <td> 1.23e+06</td>\n",
       "</tr>\n",
       "</table>\n",
       "<table class=\"simpletable\">\n",
       "<tr>\n",
       "  <th>Omnibus:</th>       <td>323.624</td> <th>  Durbin-Watson:     </th> <td>   1.853</td> \n",
       "</tr>\n",
       "<tr>\n",
       "  <th>Prob(Omnibus):</th> <td> 0.000</td>  <th>  Jarque-Bera (JB):  </th> <td>16983.979</td>\n",
       "</tr>\n",
       "<tr>\n",
       "  <th>Skew:</th>          <td> 5.374</td>  <th>  Prob(JB):          </th> <td>    0.00</td> \n",
       "</tr>\n",
       "<tr>\n",
       "  <th>Kurtosis:</th>      <td>40.565</td>  <th>  Cond. No.          </th> <td>6.55e+03</td> \n",
       "</tr>\n",
       "</table><br/><br/>Warnings:<br/>[1] Standard Errors assume that the covariance matrix of the errors is correctly specified.<br/>[2] The condition number is large, 6.55e+03. This might indicate that there are<br/>strong multicollinearity or other numerical problems."
      ],
      "text/plain": [
       "<class 'statsmodels.iolib.summary.Summary'>\n",
       "\"\"\"\n",
       "                            OLS Regression Results                            \n",
       "==============================================================================\n",
       "Dep. Variable:                 salary   R-squared:                       0.009\n",
       "Model:                            OLS   Adj. R-squared:                  0.005\n",
       "Method:                 Least Squares   F-statistic:                     2.457\n",
       "Date:                Sun, 02 Aug 2020   Prob (F-statistic):              0.118\n",
       "Time:                        22:50:02   Log-Likelihood:                -4980.4\n",
       "No. Observations:                 267   AIC:                             9965.\n",
       "Df Residuals:                     265   BIC:                             9972.\n",
       "Df Model:                           1                                         \n",
       "Covariance Type:            nonrobust                                         \n",
       "==============================================================================\n",
       "                 coef    std err          t      P>|t|      [0.025      0.975]\n",
       "------------------------------------------------------------------------------\n",
       "intercept  -8.922e+07   6.52e+07     -1.368      0.172   -2.18e+08    3.92e+07\n",
       "height      5.432e+05   3.47e+05      1.568      0.118   -1.39e+05    1.23e+06\n",
       "==============================================================================\n",
       "Omnibus:                      323.624   Durbin-Watson:                   1.853\n",
       "Prob(Omnibus):                  0.000   Jarque-Bera (JB):            16983.979\n",
       "Skew:                           5.374   Prob(JB):                         0.00\n",
       "Kurtosis:                      40.565   Cond. No.                     6.55e+03\n",
       "==============================================================================\n",
       "\n",
       "Warnings:\n",
       "[1] Standard Errors assume that the covariance matrix of the errors is correctly specified.\n",
       "[2] The condition number is large, 6.55e+03. This might indicate that there are\n",
       "strong multicollinearity or other numerical problems.\n",
       "\"\"\""
      ]
     },
     "execution_count": 84,
     "metadata": {},
     "output_type": "execute_result"
    }
   ],
   "source": [
    "lm = sm.OLS(df_s.salary, df_s[['intercept', 'height']])\n",
    "result = lm.fit()\n",
    "result.summary()"
   ]
  },
  {
   "cell_type": "code",
   "execution_count": null,
   "metadata": {},
   "outputs": [],
   "source": []
  }
 ],
 "metadata": {
  "kernelspec": {
   "display_name": "Python 3",
   "language": "python",
   "name": "python3"
  },
  "language_info": {
   "codemirror_mode": {
    "name": "ipython",
    "version": 3
   },
   "file_extension": ".py",
   "mimetype": "text/x-python",
   "name": "python",
   "nbconvert_exporter": "python",
   "pygments_lexer": "ipython3",
   "version": "3.7.6"
  }
 },
 "nbformat": 4,
 "nbformat_minor": 4
}
